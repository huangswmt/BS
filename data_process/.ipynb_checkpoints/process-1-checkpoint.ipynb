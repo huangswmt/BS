{
 "cells": [
  {
   "cell_type": "code",
   "execution_count": 2,
   "metadata": {},
   "outputs": [],
   "source": [
    "import numpy as np\n",
    "import pandas as pd"
   ]
  },
  {
   "cell_type": "code",
   "execution_count": 3,
   "metadata": {},
   "outputs": [],
   "source": [
    "class Data_Prep_shop(object):\n",
    "    \n",
    "# \"\"\"\n",
    "# 方法:__init__           传入sale表格的地址\n",
    "#                         (datapath)  str\n",
    "#                         (auto)      bool   Ture 将自动执行\n",
    "#     shop_name_clean     店铺名称清理合并，删除特卖店铺\n",
    "    \n",
    "#     frequancy_filter    频次过滤\n",
    "#                         （lower：uper） int,int\n",
    "                        \n",
    "#     depart_group_of_shop拆分为每个顾客下的店铺名单\n",
    "    \n",
    "#     save_shop_result    存储拆分好的数据\n",
    "#                         （savename）Str\n",
    "\n",
    "# \"\"\"\n",
    "\n",
    "    \n",
    "    \n",
    "    def __init__(self, salepath ='../data/sales.csv',auto = False ):\n",
    "        self.salep_path = salepath\n",
    "        self.sale_df = pd.read_csv(salepath,encoding = 'UTF-8')\n",
    "        if auto:\n",
    "            self . shop_name_clean()\n",
    "            self . frequancy_filter()\n",
    "            self . depart_group_of_shop()\n",
    "            self . depart_group_of_cus()\n",
    "            self . save_shop_result('pros_1_')\n",
    "            self . save_cus_result('pros_1_')\n",
    "    def frequancy_filter(self,lower = 4,uper = 50000):\n",
    "        dfsum = pd.DataFrame(self.sale_df.groupby(['会员卡号'])['消费金额'].count())\n",
    "        dorp_index = dfsum[dfsum['消费金额']<lower].index\n",
    "        sale_df_drop = self.sale_df.set_index('会员卡号').drop(dorp_index)\n",
    "        dorp_index = dfsum[dfsum['消费金额']>uper].index\n",
    "        sale_df_drop = sale_df_drop.drop(dorp_index)\n",
    "        self.sale_df_drop_frequancy = sale_df_drop\n",
    "    \n",
    "    \n",
    "    \n",
    "    def shop_name_clean(self):\n",
    "        sale_df = self.sale_df\n",
    "        #sale_df['店铺名称'] = sale_df['店铺名称'].apply(lambda x:x[:-2] if (x[-2:] =='特卖') else x)\n",
    "        sale_df['店铺名称'] = sale_df['店铺名称'].apply(lambda x:'特卖' if (x[-2:] =='特卖') else x)\n",
    "\n",
    "        sale_df['店铺名称'] = sale_df['店铺名称'].apply(lambda x:'fresh' if (x =='fresh馥蕾诗') else x)\n",
    "\n",
    "        sale_df['店铺名称'] = sale_df['店铺名称'].apply(lambda x:'fresh' if (x =='fersh 馥蕾诗') else x)\n",
    "\n",
    "        sale_df['店铺名称'] = sale_df['店铺名称'].apply(lambda x:'fila' if (x =='fila fusion') else x)\n",
    "\n",
    "        sale_df['店铺名称'] = sale_df['店铺名称'].apply(lambda x:'adidas' if (x =='adidas originals') else x)\n",
    "\n",
    "        sale_df['店铺名称'] = sale_df['店铺名称'].apply(lambda x:'adidas' if (x =='adidas neo') else x)\n",
    "\n",
    "        sale_df['店铺名称'] = sale_df['店铺名称'].apply(lambda x:'cafe de paris' if (x =='cafe de pairs') else x)\n",
    "\n",
    "        sale_df['店铺名称'] = sale_df['店铺名称'].apply(lambda x:'calvin klein' if (x =='ck jeans') else x)\n",
    "\n",
    "        sale_df['店铺名称'] = sale_df['店铺名称'].apply(lambda x:'calvin klein' if (x =='ck performance') else x)\n",
    "\n",
    "        sale_df['店铺名称'] = sale_df['店铺名称'].apply(lambda x:'calvin klein' if (x =='ck watch') else x)\n",
    "\n",
    "        sale_df['店铺名称'] = sale_df['店铺名称'].apply(lambda x:'calvin klein' if (x =='ck内衣') else x)\n",
    "\n",
    "        sale_df['店铺名称'] = sale_df['店铺名称'].apply(lambda x:\"d'zzit\" if (x =='d‘zzit') else x)\n",
    "\n",
    "        sale_df['店铺名称'] = sale_df['店铺名称'].apply(lambda x:'hm' if (x =='h&m女装') else x)\n",
    "\n",
    "        sale_df['店铺名称'] = sale_df['店铺名称'].apply(lambda x:'hm' if (x =='h&m男装') else x)\n",
    "\n",
    "        sale_df['店铺名称'] = sale_df['店铺名称'].apply(lambda x:'hm' if (x =='h&m') else x)\n",
    "\n",
    "        #sale_df['店铺名称'] = sale_df['店铺名称'].apply(lambda x:'kappa' if (x =='kappa串标') else x)\n",
    "\n",
    "        sale_df['店铺名称'] = sale_df['店铺名称'].apply(lambda x:'kate' if (x =='kate spade') else x)\n",
    "\n",
    "        #sale_df['店铺名称'] = sale_df['店铺名称'].apply(lambda x:'loz' if (x =='loz拼装积木') else x)\n",
    "\n",
    "        sale_df['店铺名称'] = sale_df['店铺名称'].apply(lambda x:'max&co.' if (x =='max&co') else x)\n",
    "\n",
    "        sale_df['店铺名称'] = sale_df['店铺名称'].apply(lambda x:'nike' if (x =='nike360') else x)\n",
    "\n",
    "        sale_df['店铺名称'] = sale_df['店铺名称'].apply(lambda x:'nike' if (x =='nike篮球') else x)\n",
    "\n",
    "        sale_df['店铺名称'] = sale_df['店铺名称'].apply(lambda x:'polo' if (x =='polo sport') else x)\n",
    "\n",
    "        sale_df['店铺名称'] = sale_df['店铺名称'].apply(lambda x:'tea 2 go' if (x =='tea 2 go（三方）') else x)\n",
    "\n",
    "        sale_df['店铺名称'] = sale_df['店铺名称'].apply(lambda x:'the butchers club' if (x =='the butchers club、pizzagram') else x)\n",
    "\n",
    "        sale_df['店铺名称'] = sale_df['店铺名称'].apply(lambda x:'ugg' if (x =='ugg临时店') else x)\n",
    "\n",
    "        sale_df['店铺名称'] = sale_df['店铺名称'].apply(lambda x:'九木杂物社' if (x =='九木杂物 社') else x)\n",
    "\n",
    "        sale_df['店铺名称'] = sale_df['店铺名称'].apply(lambda x:'大嘴猴' if (x =='大嘴猴/dc') else x)\n",
    "\n",
    "        sale_df['店铺名称'] = sale_df['店铺名称'].apply(lambda x:'fila' if (x =='斐乐') else x)\n",
    "\n",
    "        sale_df['店铺名称'] = sale_df['店铺名称'].apply(lambda x:'新百伦' if (x =='new balance') else x)\n",
    "\n",
    "        sale_df['店铺名称'] = sale_df['店铺名称'].apply(lambda x:'杰克琼斯&斯莱德' if (x =='杰克琼斯&斯莱德&vm') else x)\n",
    "\n",
    "        sale_df['店铺名称'] = sale_df['店铺名称'].apply(lambda x:'ochirly' if (x =='欧时力特卖t08') else x)\n",
    "\n",
    "        sale_df['店铺名称'] = sale_df['店铺名称'].apply(lambda x:'ochirly' if (x =='欧时力') else x)\n",
    "\n",
    "        sale_df['店铺名称'] = sale_df['店铺名称'].apply(lambda x:'池田' if (x =='池田寿司') else x)\n",
    "\n",
    "        sale_df['店铺名称'] = sale_df['店铺名称'].apply(lambda x:'热风' if (x =='热 风') else x)\n",
    "\n",
    "        sale_df['店铺名称'] = sale_df['店铺名称'].apply(lambda x:'贡茶' if (x =='贡 茶') else x)\n",
    "\n",
    "        sale_df['店铺名称'] = sale_df['店铺名称'].apply(lambda x:'ochirly' if (x =='欧时力') else x)\n",
    "        \n",
    "        sale_df=sale_df.drop(sale_df[sale_df['店铺名称']=='特卖'].index)\n",
    "        \n",
    "        self.sale_df = sale_df \n",
    "        \n",
    "        \n",
    "    def depart_group_of_shop(self):\n",
    "        sale_df_dropa = self.sale_df_drop_frequancy[['店铺名称','交易日时']]\n",
    "        com_list = list(set( self.sale_df_drop_frequancy.index))\n",
    "        self.shop_list = com_list\n",
    "        ll = len(com_list)\n",
    "        \n",
    "        allcomlist = [] \n",
    "        for j,i in enumerate(com_list):\n",
    "            acc = list(sale_df_dropa.loc[i,:].sort_values(by = '交易日时')['店铺名称'])\n",
    "\n",
    "            allcomlist.append(acc)\n",
    "            if j%5000 ==0:\n",
    "                print(j/ll)\n",
    "        self . allcomlist = allcomlist\n",
    "        \n",
    "    def depart_group_of_cus(self):\n",
    "        sale_df_dropa = self.sale_df_drop_frequancy\n",
    "        shop_list = list(set(sale_df_dropa['店铺名称']))\n",
    "        ll = len(shop_list)\n",
    "        sale_df_dropa = sale_df_dropa[['店铺名称','交易时间']]\n",
    "        sale_df_dropa = sale_df_dropa.reset_index().set_index('店铺名称')\n",
    "        sale_df_dropa['交易时间'] = pd.to_datetime(sale_df_dropa['交易时间'])\n",
    "        sale_df_dropa['weeks'] = sale_df_dropa['交易时间'].apply(lambda x: str(list(x.isocalendar())[0])+'_'+str(list(x.isocalendar())[1]))    \n",
    "        wlist = sale_df_dropa['weeks'].unique()\n",
    "        allcuslist = []\n",
    "        for j,i in enumerate(shop_list):\n",
    "            acc = (sale_df_dropa.loc[i,:].sort_values(by = '交易时间'))\n",
    "\n",
    "            for k,l in enumerate(wlist):\n",
    "                accc = acc[acc['weeks'] == l]\n",
    "                acccl = list(accc.sort_values(by = '交易时间')['会员卡号'])\n",
    "                allcuslist.append(acccl)\n",
    "            if j%30 ==0:\n",
    "                print(j/ll)\n",
    "        self . allcuslist = allcuslist\n",
    "        \n",
    "        \n",
    "\n",
    "        \n",
    "        \n",
    "        \n",
    "        \n",
    "    def save_shop_result(savename):\n",
    "        np.save('../data/'+savename+'_shop',self .allcomlist)\n",
    "        keys = list(set(self.sale_df_drop_frequancy['店铺名称']))\n",
    "        np.save('../data/'+savename+'_shop_key',keys)\n",
    "                                                              \n",
    "    def save_cus_result(savename):\n",
    "        np.save('../data/'+savename+'_cus',self .allcomlist)\n",
    "        keys = list(set(self.sale_df_drop_frequancy['店铺名称']))\n",
    "        np.save('../data/'+savename+'_cus_key',keys)"
   ]
  },
  {
   "cell_type": "code",
   "execution_count": 4,
   "metadata": {},
   "outputs": [],
   "source": [
    "DPS = Data_Prep_shop(auto = False )"
   ]
  },
  {
   "cell_type": "code",
   "execution_count": 6,
   "metadata": {},
   "outputs": [],
   "source": [
    "DPS.shop_name_clean()\n",
    "DPS.frequancy_filter()\n"
   ]
  },
  {
   "cell_type": "code",
   "execution_count": 23,
   "metadata": {},
   "outputs": [],
   "source": [
    "sale_df_dropa = DPS.sale_df_drop_frequancy\n",
    "shop_list = list(set(sale_df_dropa['店铺名称']))\n",
    "ll = len(shop_list)\n",
    "sale_df_dropa = sale_df_dropa[['店铺名称','交易时间']]\n",
    "sale_df_dropa = sale_df_dropa.reset_index().set_index('店铺名称')\n",
    "sale_df_dropa['交易时间'] = pd.to_datetime(sale_df_dropa['交易时间'])"
   ]
  },
  {
   "cell_type": "code",
   "execution_count": 24,
   "metadata": {},
   "outputs": [],
   "source": [
    "sale_df_dropa['weeks'] = sale_df_dropa['交易时间'].apply(lambda x: str(list(x.isocalendar())[0])+'_'+str(list(x.isocalendar())[1]))"
   ]
  },
  {
   "cell_type": "code",
   "execution_count": 26,
   "metadata": {},
   "outputs": [],
   "source": [
    "wlist = sale_df_dropa['weeks'].unique()"
   ]
  },
  {
   "cell_type": "code",
   "execution_count": 37,
   "metadata": {},
   "outputs": [
    {
     "name": "stdout",
     "output_type": "stream",
     "text": [
      "0.0\n",
      "0.10067114093959731\n",
      "0.20134228187919462\n",
      "0.30201342281879195\n",
      "0.40268456375838924\n",
      "0.5033557046979866\n",
      "0.6040268456375839\n",
      "0.7046979865771812\n",
      "0.8053691275167785\n",
      "0.9060402684563759\n"
     ]
    },
    {
     "ename": "NameError",
     "evalue": "name 'self' is not defined",
     "output_type": "error",
     "traceback": [
      "\u001b[0;31m---------------------------------------------------------------------------\u001b[0m",
      "\u001b[0;31mNameError\u001b[0m                                 Traceback (most recent call last)",
      "\u001b[0;32m<ipython-input-37-2d2dc42b096b>\u001b[0m in \u001b[0;36m<module>\u001b[0;34m\u001b[0m\n\u001b[1;32m     10\u001b[0m         \u001b[0mprint\u001b[0m\u001b[0;34m(\u001b[0m\u001b[0mj\u001b[0m\u001b[0;34m/\u001b[0m\u001b[0mll\u001b[0m\u001b[0;34m)\u001b[0m\u001b[0;34m\u001b[0m\u001b[0;34m\u001b[0m\u001b[0m\n\u001b[1;32m     11\u001b[0m \u001b[0;34m\u001b[0m\u001b[0m\n\u001b[0;32m---> 12\u001b[0;31m \u001b[0mself\u001b[0m \u001b[0;34m.\u001b[0m \u001b[0mallcuslist\u001b[0m \u001b[0;34m=\u001b[0m \u001b[0mallcuslist\u001b[0m\u001b[0;34m\u001b[0m\u001b[0;34m\u001b[0m\u001b[0m\n\u001b[0m",
      "\u001b[0;31mNameError\u001b[0m: name 'self' is not defined"
     ]
    }
   ],
   "source": [
    "allcuslist = []\n",
    "for j,i in enumerate(shop_list):\n",
    "    acc = (sale_df_dropa.loc[i,:].sort_values(by = '交易时间'))\n",
    "    \n",
    "    for k,l in enumerate(wlist):\n",
    "        accc = acc[acc['weeks'] == l]\n",
    "        acccl = list(accc.sort_values(by = '交易时间')['会员卡号'])\n",
    "        allcuslist.append(acccl)\n",
    "    if j%30 ==0:\n",
    "        print(j/ll)\n",
    "\n",
    "self . allcuslist = allcuslist"
   ]
  },
  {
   "cell_type": "code",
   "execution_count": 16,
   "metadata": {
    "scrolled": true
   },
   "outputs": [
    {
     "data": {
      "text/plain": [
       "24280"
      ]
     },
     "execution_count": 16,
     "metadata": {},
     "output_type": "execute_result"
    }
   ],
   "source": [
    "sale_df_dropa.loc['倍轻松',:],\n",
    "len(sale_df_dropa.loc['nike',:])"
   ]
  },
  {
   "cell_type": "code",
   "execution_count": 21,
   "metadata": {},
   "outputs": [
    {
     "data": {
      "text/plain": [
       "[2019, 16, 2]"
      ]
     },
     "execution_count": 21,
     "metadata": {},
     "output_type": "execute_result"
    }
   ],
   "source": [
    "import datetime\n",
    "list(pd.to_datetime('2019/4/16').isocalendar())"
   ]
  },
  {
   "cell_type": "code",
   "execution_count": 49,
   "metadata": {},
   "outputs": [
    {
     "name": "stdout",
     "output_type": "stream",
     "text": [
      "0.0\n"
     ]
    }
   ],
   "source": [
    "DPS.depart_group_of_cus()"
   ]
  },
  {
   "cell_type": "code",
   "execution_count": 50,
   "metadata": {},
   "outputs": [
    {
     "name": "stdout",
     "output_type": "stream",
     "text": [
      "0.0\n"
     ]
    },
    {
     "ename": "KeyboardInterrupt",
     "evalue": "",
     "output_type": "error",
     "traceback": [
      "\u001b[0;31m---------------------------------------------------------------------------\u001b[0m",
      "\u001b[0;31mKeyboardInterrupt\u001b[0m                         Traceback (most recent call last)",
      "\u001b[0;32m<ipython-input-50-2ba96a45183c>\u001b[0m in \u001b[0;36m<module>\u001b[0;34m\u001b[0m\n\u001b[0;32m----> 1\u001b[0;31m \u001b[0mDPS\u001b[0m\u001b[0;34m.\u001b[0m\u001b[0mdepart_group_of_shop\u001b[0m\u001b[0;34m(\u001b[0m\u001b[0;34m)\u001b[0m\u001b[0;34m\u001b[0m\u001b[0;34m\u001b[0m\u001b[0m\n\u001b[0m",
      "\u001b[0;32m<ipython-input-46-36f9dfd7e409>\u001b[0m in \u001b[0;36mdepart_group_of_shop\u001b[0;34m(self)\u001b[0m\n\u001b[1;32m    121\u001b[0m         \u001b[0mallcomlist\u001b[0m \u001b[0;34m=\u001b[0m \u001b[0;34m[\u001b[0m\u001b[0;34m]\u001b[0m\u001b[0;34m\u001b[0m\u001b[0;34m\u001b[0m\u001b[0m\n\u001b[1;32m    122\u001b[0m         \u001b[0;32mfor\u001b[0m \u001b[0mj\u001b[0m\u001b[0;34m,\u001b[0m\u001b[0mi\u001b[0m \u001b[0;32min\u001b[0m \u001b[0menumerate\u001b[0m\u001b[0;34m(\u001b[0m\u001b[0mcom_list\u001b[0m\u001b[0;34m)\u001b[0m\u001b[0;34m:\u001b[0m\u001b[0;34m\u001b[0m\u001b[0;34m\u001b[0m\u001b[0m\n\u001b[0;32m--> 123\u001b[0;31m             \u001b[0macc\u001b[0m \u001b[0;34m=\u001b[0m \u001b[0mlist\u001b[0m\u001b[0;34m(\u001b[0m\u001b[0msale_df_dropa\u001b[0m\u001b[0;34m.\u001b[0m\u001b[0mloc\u001b[0m\u001b[0;34m[\u001b[0m\u001b[0mi\u001b[0m\u001b[0;34m,\u001b[0m\u001b[0;34m:\u001b[0m\u001b[0;34m]\u001b[0m\u001b[0;34m.\u001b[0m\u001b[0msort_values\u001b[0m\u001b[0;34m(\u001b[0m\u001b[0mby\u001b[0m \u001b[0;34m=\u001b[0m \u001b[0;34m'交易日时'\u001b[0m\u001b[0;34m)\u001b[0m\u001b[0;34m[\u001b[0m\u001b[0;34m'店铺名称'\u001b[0m\u001b[0;34m]\u001b[0m\u001b[0;34m)\u001b[0m\u001b[0;34m\u001b[0m\u001b[0;34m\u001b[0m\u001b[0m\n\u001b[0m\u001b[1;32m    124\u001b[0m \u001b[0;34m\u001b[0m\u001b[0m\n\u001b[1;32m    125\u001b[0m             \u001b[0mallcomlist\u001b[0m\u001b[0;34m.\u001b[0m\u001b[0mappend\u001b[0m\u001b[0;34m(\u001b[0m\u001b[0macc\u001b[0m\u001b[0;34m)\u001b[0m\u001b[0;34m\u001b[0m\u001b[0;34m\u001b[0m\u001b[0m\n",
      "\u001b[0;32m~/anaconda3/lib/python3.7/site-packages/pandas/core/indexing.py\u001b[0m in \u001b[0;36m__getitem__\u001b[0;34m(self, key)\u001b[0m\n\u001b[1;32m   1492\u001b[0m             \u001b[0;32mexcept\u001b[0m \u001b[0;34m(\u001b[0m\u001b[0mKeyError\u001b[0m\u001b[0;34m,\u001b[0m \u001b[0mIndexError\u001b[0m\u001b[0;34m,\u001b[0m \u001b[0mAttributeError\u001b[0m\u001b[0;34m)\u001b[0m\u001b[0;34m:\u001b[0m\u001b[0;34m\u001b[0m\u001b[0;34m\u001b[0m\u001b[0m\n\u001b[1;32m   1493\u001b[0m                 \u001b[0;32mpass\u001b[0m\u001b[0;34m\u001b[0m\u001b[0;34m\u001b[0m\u001b[0m\n\u001b[0;32m-> 1494\u001b[0;31m             \u001b[0;32mreturn\u001b[0m \u001b[0mself\u001b[0m\u001b[0;34m.\u001b[0m\u001b[0m_getitem_tuple\u001b[0m\u001b[0;34m(\u001b[0m\u001b[0mkey\u001b[0m\u001b[0;34m)\u001b[0m\u001b[0;34m\u001b[0m\u001b[0;34m\u001b[0m\u001b[0m\n\u001b[0m\u001b[1;32m   1495\u001b[0m         \u001b[0;32melse\u001b[0m\u001b[0;34m:\u001b[0m\u001b[0;34m\u001b[0m\u001b[0;34m\u001b[0m\u001b[0m\n\u001b[1;32m   1496\u001b[0m             \u001b[0;31m# we by definition only have the 0th axis\u001b[0m\u001b[0;34m\u001b[0m\u001b[0;34m\u001b[0m\u001b[0;34m\u001b[0m\u001b[0m\n",
      "\u001b[0;32m~/anaconda3/lib/python3.7/site-packages/pandas/core/indexing.py\u001b[0m in \u001b[0;36m_getitem_tuple\u001b[0;34m(self, tup)\u001b[0m\n\u001b[1;32m    866\u001b[0m     \u001b[0;32mdef\u001b[0m \u001b[0m_getitem_tuple\u001b[0m\u001b[0;34m(\u001b[0m\u001b[0mself\u001b[0m\u001b[0;34m,\u001b[0m \u001b[0mtup\u001b[0m\u001b[0;34m)\u001b[0m\u001b[0;34m:\u001b[0m\u001b[0;34m\u001b[0m\u001b[0;34m\u001b[0m\u001b[0m\n\u001b[1;32m    867\u001b[0m         \u001b[0;32mtry\u001b[0m\u001b[0;34m:\u001b[0m\u001b[0;34m\u001b[0m\u001b[0;34m\u001b[0m\u001b[0m\n\u001b[0;32m--> 868\u001b[0;31m             \u001b[0;32mreturn\u001b[0m \u001b[0mself\u001b[0m\u001b[0;34m.\u001b[0m\u001b[0m_getitem_lowerdim\u001b[0m\u001b[0;34m(\u001b[0m\u001b[0mtup\u001b[0m\u001b[0;34m)\u001b[0m\u001b[0;34m\u001b[0m\u001b[0;34m\u001b[0m\u001b[0m\n\u001b[0m\u001b[1;32m    869\u001b[0m         \u001b[0;32mexcept\u001b[0m \u001b[0mIndexingError\u001b[0m\u001b[0;34m:\u001b[0m\u001b[0;34m\u001b[0m\u001b[0;34m\u001b[0m\u001b[0m\n\u001b[1;32m    870\u001b[0m             \u001b[0;32mpass\u001b[0m\u001b[0;34m\u001b[0m\u001b[0;34m\u001b[0m\u001b[0m\n",
      "\u001b[0;32m~/anaconda3/lib/python3.7/site-packages/pandas/core/indexing.py\u001b[0m in \u001b[0;36m_getitem_lowerdim\u001b[0;34m(self, tup)\u001b[0m\n\u001b[1;32m    986\u001b[0m         \u001b[0;32mfor\u001b[0m \u001b[0mi\u001b[0m\u001b[0;34m,\u001b[0m \u001b[0mkey\u001b[0m \u001b[0;32min\u001b[0m \u001b[0menumerate\u001b[0m\u001b[0;34m(\u001b[0m\u001b[0mtup\u001b[0m\u001b[0;34m)\u001b[0m\u001b[0;34m:\u001b[0m\u001b[0;34m\u001b[0m\u001b[0;34m\u001b[0m\u001b[0m\n\u001b[1;32m    987\u001b[0m             \u001b[0;32mif\u001b[0m \u001b[0mis_label_like\u001b[0m\u001b[0;34m(\u001b[0m\u001b[0mkey\u001b[0m\u001b[0;34m)\u001b[0m \u001b[0;32mor\u001b[0m \u001b[0misinstance\u001b[0m\u001b[0;34m(\u001b[0m\u001b[0mkey\u001b[0m\u001b[0;34m,\u001b[0m \u001b[0mtuple\u001b[0m\u001b[0;34m)\u001b[0m\u001b[0;34m:\u001b[0m\u001b[0;34m\u001b[0m\u001b[0;34m\u001b[0m\u001b[0m\n\u001b[0;32m--> 988\u001b[0;31m                 \u001b[0msection\u001b[0m \u001b[0;34m=\u001b[0m \u001b[0mself\u001b[0m\u001b[0;34m.\u001b[0m\u001b[0m_getitem_axis\u001b[0m\u001b[0;34m(\u001b[0m\u001b[0mkey\u001b[0m\u001b[0;34m,\u001b[0m \u001b[0maxis\u001b[0m\u001b[0;34m=\u001b[0m\u001b[0mi\u001b[0m\u001b[0;34m)\u001b[0m\u001b[0;34m\u001b[0m\u001b[0;34m\u001b[0m\u001b[0m\n\u001b[0m\u001b[1;32m    989\u001b[0m \u001b[0;34m\u001b[0m\u001b[0m\n\u001b[1;32m    990\u001b[0m                 \u001b[0;31m# we have yielded a scalar ?\u001b[0m\u001b[0;34m\u001b[0m\u001b[0;34m\u001b[0m\u001b[0;34m\u001b[0m\u001b[0m\n",
      "\u001b[0;32m~/anaconda3/lib/python3.7/site-packages/pandas/core/indexing.py\u001b[0m in \u001b[0;36m_getitem_axis\u001b[0;34m(self, key, axis)\u001b[0m\n\u001b[1;32m   1911\u001b[0m         \u001b[0;31m# fall thru to straight lookup\u001b[0m\u001b[0;34m\u001b[0m\u001b[0;34m\u001b[0m\u001b[0;34m\u001b[0m\u001b[0m\n\u001b[1;32m   1912\u001b[0m         \u001b[0mself\u001b[0m\u001b[0;34m.\u001b[0m\u001b[0m_validate_key\u001b[0m\u001b[0;34m(\u001b[0m\u001b[0mkey\u001b[0m\u001b[0;34m,\u001b[0m \u001b[0maxis\u001b[0m\u001b[0;34m)\u001b[0m\u001b[0;34m\u001b[0m\u001b[0;34m\u001b[0m\u001b[0m\n\u001b[0;32m-> 1913\u001b[0;31m         \u001b[0;32mreturn\u001b[0m \u001b[0mself\u001b[0m\u001b[0;34m.\u001b[0m\u001b[0m_get_label\u001b[0m\u001b[0;34m(\u001b[0m\u001b[0mkey\u001b[0m\u001b[0;34m,\u001b[0m \u001b[0maxis\u001b[0m\u001b[0;34m=\u001b[0m\u001b[0maxis\u001b[0m\u001b[0;34m)\u001b[0m\u001b[0;34m\u001b[0m\u001b[0;34m\u001b[0m\u001b[0m\n\u001b[0m\u001b[1;32m   1914\u001b[0m \u001b[0;34m\u001b[0m\u001b[0m\n\u001b[1;32m   1915\u001b[0m \u001b[0;34m\u001b[0m\u001b[0m\n",
      "\u001b[0;32m~/anaconda3/lib/python3.7/site-packages/pandas/core/indexing.py\u001b[0m in \u001b[0;36m_get_label\u001b[0;34m(self, label, axis)\u001b[0m\n\u001b[1;32m    139\u001b[0m             \u001b[0;32mraise\u001b[0m \u001b[0mIndexingError\u001b[0m\u001b[0;34m(\u001b[0m\u001b[0;34m'no slices here, handle elsewhere'\u001b[0m\u001b[0;34m)\u001b[0m\u001b[0;34m\u001b[0m\u001b[0;34m\u001b[0m\u001b[0m\n\u001b[1;32m    140\u001b[0m \u001b[0;34m\u001b[0m\u001b[0m\n\u001b[0;32m--> 141\u001b[0;31m         \u001b[0;32mreturn\u001b[0m \u001b[0mself\u001b[0m\u001b[0;34m.\u001b[0m\u001b[0mobj\u001b[0m\u001b[0;34m.\u001b[0m\u001b[0m_xs\u001b[0m\u001b[0;34m(\u001b[0m\u001b[0mlabel\u001b[0m\u001b[0;34m,\u001b[0m \u001b[0maxis\u001b[0m\u001b[0;34m=\u001b[0m\u001b[0maxis\u001b[0m\u001b[0;34m)\u001b[0m\u001b[0;34m\u001b[0m\u001b[0;34m\u001b[0m\u001b[0m\n\u001b[0m\u001b[1;32m    142\u001b[0m \u001b[0;34m\u001b[0m\u001b[0m\n\u001b[1;32m    143\u001b[0m     \u001b[0;32mdef\u001b[0m \u001b[0m_get_loc\u001b[0m\u001b[0;34m(\u001b[0m\u001b[0mself\u001b[0m\u001b[0;34m,\u001b[0m \u001b[0mkey\u001b[0m\u001b[0;34m,\u001b[0m \u001b[0maxis\u001b[0m\u001b[0;34m=\u001b[0m\u001b[0;32mNone\u001b[0m\u001b[0;34m)\u001b[0m\u001b[0;34m:\u001b[0m\u001b[0;34m\u001b[0m\u001b[0;34m\u001b[0m\u001b[0m\n",
      "\u001b[0;32m~/anaconda3/lib/python3.7/site-packages/pandas/core/generic.py\u001b[0m in \u001b[0;36mxs\u001b[0;34m(self, key, axis, level, drop_level)\u001b[0m\n\u001b[1;32m   3583\u001b[0m                                                       drop_level=drop_level)\n\u001b[1;32m   3584\u001b[0m         \u001b[0;32melse\u001b[0m\u001b[0;34m:\u001b[0m\u001b[0;34m\u001b[0m\u001b[0;34m\u001b[0m\u001b[0m\n\u001b[0;32m-> 3585\u001b[0;31m             \u001b[0mloc\u001b[0m \u001b[0;34m=\u001b[0m \u001b[0mself\u001b[0m\u001b[0;34m.\u001b[0m\u001b[0mindex\u001b[0m\u001b[0;34m.\u001b[0m\u001b[0mget_loc\u001b[0m\u001b[0;34m(\u001b[0m\u001b[0mkey\u001b[0m\u001b[0;34m)\u001b[0m\u001b[0;34m\u001b[0m\u001b[0;34m\u001b[0m\u001b[0m\n\u001b[0m\u001b[1;32m   3586\u001b[0m \u001b[0;34m\u001b[0m\u001b[0m\n\u001b[1;32m   3587\u001b[0m             \u001b[0;32mif\u001b[0m \u001b[0misinstance\u001b[0m\u001b[0;34m(\u001b[0m\u001b[0mloc\u001b[0m\u001b[0;34m,\u001b[0m \u001b[0mnp\u001b[0m\u001b[0;34m.\u001b[0m\u001b[0mndarray\u001b[0m\u001b[0;34m)\u001b[0m\u001b[0;34m:\u001b[0m\u001b[0;34m\u001b[0m\u001b[0;34m\u001b[0m\u001b[0m\n",
      "\u001b[0;32m~/anaconda3/lib/python3.7/site-packages/pandas/core/indexes/base.py\u001b[0m in \u001b[0;36mget_loc\u001b[0;34m(self, key, method, tolerance)\u001b[0m\n\u001b[1;32m   2655\u001b[0m                                  'backfill or nearest lookups')\n\u001b[1;32m   2656\u001b[0m             \u001b[0;32mtry\u001b[0m\u001b[0;34m:\u001b[0m\u001b[0;34m\u001b[0m\u001b[0;34m\u001b[0m\u001b[0m\n\u001b[0;32m-> 2657\u001b[0;31m                 \u001b[0;32mreturn\u001b[0m \u001b[0mself\u001b[0m\u001b[0;34m.\u001b[0m\u001b[0m_engine\u001b[0m\u001b[0;34m.\u001b[0m\u001b[0mget_loc\u001b[0m\u001b[0;34m(\u001b[0m\u001b[0mkey\u001b[0m\u001b[0;34m)\u001b[0m\u001b[0;34m\u001b[0m\u001b[0;34m\u001b[0m\u001b[0m\n\u001b[0m\u001b[1;32m   2658\u001b[0m             \u001b[0;32mexcept\u001b[0m \u001b[0mKeyError\u001b[0m\u001b[0;34m:\u001b[0m\u001b[0;34m\u001b[0m\u001b[0;34m\u001b[0m\u001b[0m\n\u001b[1;32m   2659\u001b[0m                 \u001b[0;32mreturn\u001b[0m \u001b[0mself\u001b[0m\u001b[0;34m.\u001b[0m\u001b[0m_engine\u001b[0m\u001b[0;34m.\u001b[0m\u001b[0mget_loc\u001b[0m\u001b[0;34m(\u001b[0m\u001b[0mself\u001b[0m\u001b[0;34m.\u001b[0m\u001b[0m_maybe_cast_indexer\u001b[0m\u001b[0;34m(\u001b[0m\u001b[0mkey\u001b[0m\u001b[0;34m)\u001b[0m\u001b[0;34m)\u001b[0m\u001b[0;34m\u001b[0m\u001b[0;34m\u001b[0m\u001b[0m\n",
      "\u001b[0;31mKeyboardInterrupt\u001b[0m: "
     ]
    }
   ],
   "source": [
    "DPS.depart_group_of_shop()"
   ]
  },
  {
   "cell_type": "code",
   "execution_count": 52,
   "metadata": {},
   "outputs": [
    {
     "data": {
      "text/plain": [
       "363"
      ]
     },
     "execution_count": 52,
     "metadata": {},
     "output_type": "execute_result"
    }
   ],
   "source": [
    "len(DPS.allshoplist)"
   ]
  },
  {
   "cell_type": "code",
   "execution_count": null,
   "metadata": {},
   "outputs": [],
   "source": []
  }
 ],
 "metadata": {
  "kernelspec": {
   "display_name": "Python 3",
   "language": "python",
   "name": "python3"
  },
  "language_info": {
   "codemirror_mode": {
    "name": "ipython",
    "version": 3
   },
   "file_extension": ".py",
   "mimetype": "text/x-python",
   "name": "python",
   "nbconvert_exporter": "python",
   "pygments_lexer": "ipython3",
   "version": "3.7.3"
  }
 },
 "nbformat": 4,
 "nbformat_minor": 2
}
